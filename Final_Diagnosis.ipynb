{
  "nbformat": 4,
  "nbformat_minor": 0,
  "metadata": {
    "colab": {
      "name": "Final Diagnosis",
      "provenance": [],
      "authorship_tag": "ABX9TyNTQ/Ab1WzuWd6+CU8sSE8T",
      "include_colab_link": true
    },
    "kernelspec": {
      "name": "python3",
      "display_name": "Python 3"
    },
    "language_info": {
      "name": "python"
    }
  },
  "cells": [
    {
      "cell_type": "markdown",
      "metadata": {
        "id": "view-in-github",
        "colab_type": "text"
      },
      "source": [
        "<a href=\"https://colab.research.google.com/github/Jvcklyn/snu_hort/blob/main/Final_Diagnosis.ipynb\" target=\"_parent\"><img src=\"https://colab.research.google.com/assets/colab-badge.svg\" alt=\"Open In Colab\"/></a>"
      ]
    },
    {
      "cell_type": "code",
      "execution_count": 53,
      "metadata": {
        "id": "t0mjeKEz0pxH",
        "colab": {
          "base_uri": "https://localhost:8080/"
        },
        "outputId": "2b4e3c34-6d99-4b49-9044-df29206d300a"
      },
      "outputs": [
        {
          "output_type": "stream",
          "name": "stdout",
          "text": [
            "Drive already mounted at /content/gdrive; to attempt to forcibly remount, call drive.mount(\"/content/gdrive\", force_remount=True).\n"
          ]
        }
      ],
      "source": [
        "from google.colab import drive\n",
        "drive.mount('/content/gdrive') #Google Drive로 경로 지정\n",
        "\n",
        "import numpy as np\n",
        "import matplotlib.pyplot as plt\n",
        "import pandas as pd\n",
        "import seaborn as sns\n",
        "import os\n",
        "import tensorflow as tf\n",
        "\n",
        "from tensorflow.keras.models import Sequential\n",
        "from tensorflow.keras.layers import Dense\n",
        "from tensorflow.keras.optimizers import Adam\n",
        "from keras.utils import np_utils\n",
        "from keras.callbacks import ModelCheckpoint\n",
        "\n",
        "from sklearn.preprocessing import LabelEncoder\n",
        "from sklearn.model_selection import train_test_split, cross_val_score, cross_validate #교차검증 K-Fold\n",
        "from sklearn.tree import DecisionTreeClassifier\n",
        "from sklearn.metrics import accuracy_score, recall_score, precision_score #정확도, 재현율, 정밀도\n",
        "from sklearn.neighbors import KNeighborsClassifier \n",
        "from sklearn.svm import SVC\n",
        "from sklearn.linear_model import LogisticRegression\n",
        "from sklearn.discriminant_analysis import LinearDiscriminantAnalysis\n",
        "from sklearn.preprocessing import StandardScaler\n",
        "from sklearn.ensemble import RandomForestClassifier\n",
        "from sklearn import metrics"
      ]
    },
    {
      "cell_type": "code",
      "source": [
        "total=pd.read_csv('/content/gdrive/My Drive/Colab Notebooks/Dataset/홍삼액기스 국가별 ginsenoside 분석표(select)_normalized.csv')\n",
        "result=pd.DataFrame.to_numpy(total)\n",
        "df_result=pd.DataFrame(result)\n",
        "target=df_result[0]\n",
        "data=df_result.iloc[:,1:]\n",
        "\n",
        "x_train, x_test, y_train, y_test=train_test_split(data, target, test_size=0.2, shuffle=True) #random_state=n\n",
        "print(df_result)\n",
        "\n",
        "total2=pd.read_csv('/content/gdrive/My Drive/Colab Notebooks/Dataset/홍삼액기스 국가별 ginsenoside 분석표_normalized(수정).csv')\n",
        "result2=pd.DataFrame.to_numpy(total2)\n",
        "df_result2=pd.DataFrame(result2)\n",
        "target2=df_result2[0]\n",
        "data2=df_result2.iloc[:,1:]\n",
        "x_train2, x_test2, y_train2, y_test2=train_test_split(data2, target2, test_size=0.2, shuffle=True) #random_state=n\n",
        "\n",
        "print(df_result2)"
      ],
      "metadata": {
        "id": "oeZyOIuG0rQk",
        "colab": {
          "base_uri": "https://localhost:8080/"
        },
        "outputId": "1aa2d9e7-6639-4c42-b569-3d2b217fdf10"
      },
      "execution_count": 54,
      "outputs": [
        {
          "output_type": "stream",
          "name": "stdout",
          "text": [
            "       0          1          2   ...        9         10        11\n",
            "0   Korea  -0.286736   -0.31255  ...  0.169449 -0.136083 -0.151448\n",
            "1   Korea  -0.683101  -0.534781  ...  0.175124 -0.136083 -0.151448\n",
            "2   Korea  -0.516002  -0.175945  ...  0.345654 -0.136083 -0.151448\n",
            "3   Korea   0.225749 -0.0360187  ...  0.794594 -0.136083 -0.151448\n",
            "4   Korea   0.317714   0.212664  ...  0.346515 -0.136083 -0.151448\n",
            "..    ...        ...        ...  ...       ...       ...       ...\n",
            "95  China  -0.916186  -0.285496  ...   -1.3047 -0.377916 -0.727621\n",
            "96  China -0.0286783  -0.285496  ...  0.729364 -0.377916  0.238744\n",
            "97  China   0.566928  -0.285496  ... -0.153572 -0.377916   2.28231\n",
            "98  China     2.0431  -0.285496  ...   2.11974 -0.377916   5.63062\n",
            "99  China  -0.789333  -0.285496  ...  -1.35427 -0.377916 -0.736708\n",
            "\n",
            "[100 rows x 12 columns]\n",
            "       0          1          2   ...        21        22        23\n",
            "0   Korea  -0.286736   -0.31255  ... -0.151448 -0.220021         0\n",
            "1   Korea  -0.683101  -0.534781  ... -0.151448 -0.223599         0\n",
            "2   Korea  -0.516002  -0.175945  ... -0.151448 -0.216938         0\n",
            "3   Korea   0.225749 -0.0360187  ... -0.151448  0.459427         0\n",
            "4   Korea   0.317714   0.212664  ... -0.151448   1.66288         0\n",
            "..    ...        ...        ...  ...       ...       ...       ...\n",
            "95  China  -0.916186  -0.285496  ... -0.727621 -0.741623 -0.420254\n",
            "96  China -0.0286783  -0.285496  ...  0.238744 -0.295466 -0.366718\n",
            "97  China   0.566928  -0.285496  ...   2.28231   1.07606  0.757528\n",
            "98  China     2.0431  -0.285496  ...   5.63062    2.8362   1.58733\n",
            "99  China  -0.789333  -0.285496  ... -0.736708  -0.76847 -0.313183\n",
            "\n",
            "[100 rows x 24 columns]\n"
          ]
        }
      ]
    },
    {
      "cell_type": "code",
      "source": [
        "#의사결정나무 분석법\n",
        "print(\"Decision Tree\")\n",
        "\n",
        "clf=DecisionTreeClassifier(random_state=5)\n",
        "clf.fit(x_train, y_train)\n",
        "clf_pred=clf.predict(x_test)\n",
        "clf_acc=accuracy_score(y_test, clf_pred)\n",
        "clf_rec=recall_score(y_test, clf_pred, average='micro')\n",
        "clf_pre=precision_score(y_test, clf_pred, average='micro')\n",
        "\n",
        "clf2=DecisionTreeClassifier(random_state=41)\n",
        "clf2.fit(x_train2, y_train2)\n",
        "clf_pred2=clf2.predict(x_test2)\n",
        "clf_acc2=accuracy_score(y_test2, clf_pred2)\n",
        "clf_rec2=recall_score(y_test2, clf_pred2, average='micro')\n",
        "clf_pre2=precision_score(y_test2, clf_pred2, average='micro')\n",
        "\n",
        "clf_kscore=(cross_val_score(clf, data, target, cv=5))\n",
        "clf_kscore2=(cross_val_score(clf2, data, target, cv=5))\n",
        "\n",
        "print(\"1차 데이터 예측 정확도: %.4f, %.4f, %.4f\"%(clf_acc, clf_rec, clf_pre))\n",
        "print(\"2차 데이터 예측 정확도: %.4f, %.4f, %.4f\"%(clf_acc2, clf_rec2, clf_pre2))\n",
        "print(\"K-Fold cross validation score: %.4f, %.4f\"%(clf_kscore.mean(), clf_kscore2.mean()))"
      ],
      "metadata": {
        "id": "h-YvIr-H0sb6",
        "colab": {
          "base_uri": "https://localhost:8080/"
        },
        "outputId": "ec2756fe-86af-4478-d8c6-a38149e20b56"
      },
      "execution_count": 55,
      "outputs": [
        {
          "output_type": "stream",
          "name": "stdout",
          "text": [
            "Decision Tree\n",
            "1차 데이터 예측 정확도: 0.9500, 0.9500, 0.9500\n",
            "2차 데이터 예측 정확도: 0.9500, 0.9500, 0.9500\n",
            "K-Fold cross validation score: 0.9700, 0.9700\n"
          ]
        }
      ]
    },
    {
      "cell_type": "code",
      "source": [
        "#KNN 분석법\n",
        "print(\"K-Nearest-Neighbors\")\n",
        "\n",
        "knn=KNeighborsClassifier(n_neighbors=5)\n",
        "knn.fit(x_train, y_train)\n",
        "knn2=KNeighborsClassifier(n_neighbors=5)\n",
        "knn2.fit(x_train2, y_train2)\n",
        "\n",
        "y_knn_pred=knn.predict(x_test)\n",
        "knn_acc=accuracy_score(y_test, y_knn_pred)\n",
        "knn_rec=recall_score(y_test, y_knn_pred, average='micro')\n",
        "knn_pre=precision_score(y_test, y_knn_pred, average='micro')\n",
        "\n",
        "y_knn_pred2=knn2.predict(x_test2)\n",
        "knn_acc2=accuracy_score(y_test2, y_knn_pred2)\n",
        "knn_rec2=recall_score(y_test, y_knn_pred2, average='micro')\n",
        "knn_pre2=precision_score(y_test, y_knn_pred2, average='micro')\n",
        "\n",
        "print(\"1차 데이터 예측 정확도: %.4f, %.4f, %.4f\"%(knn_acc, knn_rec, knn_pre))\n",
        "print(\"2차 데이터 예측 정확도: %.4f, %.4f, %.4f\"%(knn_acc2, knn_rec2, knn_pre2))\n",
        "\n",
        "knn_kscore=(cross_val_score(knn, data, target, cv=5))\n",
        "knn_kscore2=(cross_val_score(knn2, data, target, cv=5))\n",
        "print(\"K-Fold cross validation score: %.4f, %.4f\"%(knn_kscore.mean(), knn_kscore2.mean()))"
      ],
      "metadata": {
        "id": "br83_d690t3j",
        "colab": {
          "base_uri": "https://localhost:8080/"
        },
        "outputId": "086a607d-80d4-4b19-84f9-eabb2af8b750"
      },
      "execution_count": 56,
      "outputs": [
        {
          "output_type": "stream",
          "name": "stdout",
          "text": [
            "K-Nearest-Neighbors\n",
            "1차 데이터 예측 정확도: 0.8500, 0.8500, 0.8500\n",
            "2차 데이터 예측 정확도: 0.8500, 0.6000, 0.6000\n",
            "K-Fold cross validation score: 0.7600, 0.7600\n"
          ]
        }
      ]
    },
    {
      "cell_type": "code",
      "source": [
        "#Linear Discriminant Analysis\n",
        "print(\"Linear Discriminant Analysis\")\n",
        "\n",
        "lda=LinearDiscriminantAnalysis()\n",
        "lda.fit(x_train, y_train)\n",
        "lda_pred=lda.predict(x_test)\n",
        "lda_acc=accuracy_score(y_test, lda_pred)\n",
        "lda_rec=recall_score(y_test, lda_pred, average='micro')\n",
        "lda_pre=precision_score(y_test, lda_pred, average='micro')\n",
        "\n",
        "lda2=LinearDiscriminantAnalysis()\n",
        "lda2.fit(x_train2, y_train2)\n",
        "lda2_pred=lda2.predict(x_test2)\n",
        "lda_acc2=accuracy_score(y_test2, lda2_pred)\n",
        "lda_rec2=recall_score(y_test, lda2_pred, average='micro')\n",
        "lda_pre2=precision_score(y_test, lda2_pred, average='micro')\n",
        "\n",
        "print(\"1차 데이터 예측 정확도: %.4f, %.4f, %.4f\"%(lda_acc, lda_rec, lda_pre))\n",
        "print(\"2차 데이터 예측 정확도: %.4f, %.4f, %.4f\"%(lda_acc2, lda_rec2, lda_pre2))\n",
        "\n",
        "lda_kscore=(cross_val_score(lda, data, target, cv=5))\n",
        "lda_kscore2=(cross_val_score(lda2, data, target, cv=5))\n",
        "print(\"K-Fold cross validation score: %.4f, %.4f\"%(lda_kscore.mean(), lda_kscore2.mean()))"
      ],
      "metadata": {
        "id": "tBrQyLe70vRi",
        "colab": {
          "base_uri": "https://localhost:8080/"
        },
        "outputId": "9cea26ae-1c6e-4112-e1ea-4a31f5cdd782"
      },
      "execution_count": 57,
      "outputs": [
        {
          "output_type": "stream",
          "name": "stdout",
          "text": [
            "Linear Discriminant Analysis\n",
            "1차 데이터 예측 정확도: 0.3000, 0.3000, 0.3000\n",
            "2차 데이터 예측 정확도: 0.4000, 0.4500, 0.4500\n",
            "K-Fold cross validation score: 0.3500, 0.3500\n"
          ]
        }
      ]
    },
    {
      "cell_type": "code",
      "source": [
        "#Support Vector Machine\n",
        "print(\"Support Vector Machine\")\n",
        "\n",
        "svc=SVC(kernel='rbf')\n",
        "svc.fit(x_train, y_train)\n",
        "\n",
        "svc2=SVC(kernel='rbf')\n",
        "svc2.fit(x_train2, y_train2)\n",
        "\n",
        "y_svc_pred=svc.predict(x_test)\n",
        "svc_acc=accuracy_score(y_test, y_svc_pred)\n",
        "svc_rec=recall_score(y_test, y_svc_pred, average='micro')\n",
        "svc_pre=precision_score(y_test, y_svc_pred, average='micro')\n",
        "\n",
        "y_svc_pred2=svc2.predict(x_test2)\n",
        "svc_acc2=accuracy_score(y_test2, y_svc_pred2)\n",
        "svc_rec2=recall_score(y_test, y_svc_pred2, average='micro')\n",
        "svc_pre2=precision_score(y_test, y_svc_pred2, average='micro')\n",
        "\n",
        "print(\"1차 데이터 예측 정확도: %.4f, %.4f, %.4f\"%(svc_acc, svc_rec, svc_pre))\n",
        "print(\"2차 데이터 예측 정확도: %.4f, %.4f, %.4f\"%(svc_acc2, svc_rec2, svc_pre2))\n",
        "\n",
        "svc_kscore=(cross_val_score(svc, data, target, cv=5))\n",
        "svc_kscore2=(cross_val_score(svc2, data, target, cv=5))\n",
        "print(\"K-Fold cross validation score: %.4f, %.4f\"%(svc_kscore.mean(), svc_kscore2.mean()))"
      ],
      "metadata": {
        "id": "C2WfP_AE0wXw",
        "colab": {
          "base_uri": "https://localhost:8080/"
        },
        "outputId": "508963ea-10b0-4a0e-8589-5b8034493fcb"
      },
      "execution_count": 58,
      "outputs": [
        {
          "output_type": "stream",
          "name": "stdout",
          "text": [
            "Support Vector Machine\n",
            "1차 데이터 예측 정확도: 0.9500, 0.9500, 0.9500\n",
            "2차 데이터 예측 정확도: 0.7500, 0.7000, 0.7000\n",
            "K-Fold cross validation score: 0.8000, 0.8000\n"
          ]
        }
      ]
    },
    {
      "cell_type": "code",
      "source": [
        "#Logistic Regression\n",
        "print(\"Logistic Regression\")\n",
        "\n",
        "lrc=LogisticRegression()\n",
        "lrc.fit(x_train, y_train)\n",
        "\n",
        "lrc2=LogisticRegression()\n",
        "lrc2.fit(x_train2, y_train2)\n",
        "\n",
        "y_lrc_pred=lrc.predict(x_test)\n",
        "lrc_acc=accuracy_score(y_test, y_lrc_pred) \n",
        "lrc_rec=recall_score(y_test, y_lrc_pred, average='micro')\n",
        "lrc_pre=precision_score(y_test, y_lrc_pred, average='micro')\n",
        "\n",
        "y_lrc_pred2=lrc2.predict(x_test2)\n",
        "lrc_acc2=accuracy_score(y_test2, y_lrc_pred2)\n",
        "lrc_rec2=recall_score(y_test, y_lrc_pred2, average='micro')\n",
        "lrc_pre2=precision_score(y_test, y_lrc_pred2, average='micro')\n",
        "\n",
        "print(\"1차 데이터 예측 정확도: %.4f, %.4f, %.4f\"%(lrc_acc, lrc_rec, lrc_pre))\n",
        "print(\"2차 데이터 예측 정확도: %.4f, %.4f, %.4f\"%(lrc_acc2, lrc_rec2, lrc_pre2))\n",
        "\n",
        "lrc_kscore=(cross_val_score(lrc, data, target, cv=5))\n",
        "lrc_kscore2=(cross_val_score(lrc2, data, target, cv=5))\n",
        "print(\"K-Fold cross validation score: %.4f, %.4f\"%(lrc_kscore.mean(), lrc_kscore2.mean()))"
      ],
      "metadata": {
        "id": "6gfRLVg20xnB",
        "colab": {
          "base_uri": "https://localhost:8080/"
        },
        "outputId": "049693d7-bc6f-4a4c-9b4f-6e8d3e7799ef"
      },
      "execution_count": 59,
      "outputs": [
        {
          "output_type": "stream",
          "name": "stdout",
          "text": [
            "Logistic Regression\n",
            "1차 데이터 예측 정확도: 0.3500, 0.3500, 0.3500\n",
            "2차 데이터 예측 정확도: 0.4000, 0.4500, 0.4500\n",
            "K-Fold cross validation score: 0.2000, 0.2000\n"
          ]
        }
      ]
    },
    {
      "cell_type": "code",
      "source": [
        "#Random Forest 모델\n",
        "print(\"Random Forest\")\n",
        "\n",
        "forest=RandomForestClassifier(n_estimators=100)\n",
        "forest.fit(x_train, y_train)\n",
        "\n",
        "y_for_pred=forest.predict(x_test)\n",
        "for_acc=accuracy_score(y_test, y_for_pred) \n",
        "for_rec=recall_score(y_test, y_for_pred, average='micro')\n",
        "for_pre=precision_score(y_test, y_for_pred, average='micro')\n",
        "\n",
        "forest2=RandomForestClassifier(n_estimators=100)\n",
        "forest2.fit(x_train2, y_train2)\n",
        "\n",
        "y_for_pred2=forest2.predict(x_test2)\n",
        "for_acc2=accuracy_score(y_test2, y_for_pred2) \n",
        "for_rec2=recall_score(y_test2, y_for_pred2, average='micro')\n",
        "for_pre2=precision_score(y_test2, y_for_pred2, average='micro')\n",
        "\n",
        "print(\"1차 데이터 예측 정확도: %.4f, %.4f, %.4f\"%(for_acc, for_rec, for_pre))\n",
        "print(\"2차 데이터 예측 정확도: %.4f, %.4f, %.4f\"%(for_acc2, for_rec2, for_pre2))\n",
        "\n",
        "for_kscore=(cross_val_score(forest, data, target, cv=5))\n",
        "for_kscore2=(cross_val_score(forest2, data, target, cv=5))\n",
        "print(\"K-Fold cross validation score: %.4f, %.4f\"%(for_kscore.mean(), for_kscore2.mean()))"
      ],
      "metadata": {
        "id": "Ltf0nHBp0y0v",
        "colab": {
          "base_uri": "https://localhost:8080/"
        },
        "outputId": "7425b152-c621-42ed-943c-f557ad6c19fe"
      },
      "execution_count": 60,
      "outputs": [
        {
          "output_type": "stream",
          "name": "stdout",
          "text": [
            "Random Forest\n",
            "1차 데이터 예측 정확도: 1.0000, 1.0000, 1.0000\n",
            "2차 데이터 예측 정확도: 1.0000, 1.0000, 1.0000\n",
            "K-Fold cross validation score: 0.9900, 0.9700\n"
          ]
        }
      ]
    }
  ]
}